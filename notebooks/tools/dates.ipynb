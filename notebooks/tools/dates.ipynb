{
 "cells": [
  {
   "cell_type": "markdown",
   "id": "07db4d67",
   "metadata": {},
   "source": [
    "# dates.py\n",
    "\n",
    "This notebook describes the intended use of all classes and function within the dates.py file.\n",
    "\n",
    "The functionality captured within the python file is intended to form the base for all date calculations within frml."
   ]
  },
  {
   "cell_type": "markdown",
   "id": "2e0c2f0d",
   "metadata": {},
   "source": [
    "## get_calendar\n",
    "\n",
    "This function is a helper function, which aids other date based classes and function. It returns a pd.offsets.CustomBusinessDay object. \n",
    "\n",
    "The inputs for this function, is any of the pre-captured calendars. They can be found in frml.input_helpers.tools in class Calendars or run the below code snippet."
   ]
  },
  {
   "cell_type": "code",
   "execution_count": 1,
   "id": "ad62a6ef",
   "metadata": {},
   "outputs": [
    {
     "ename": "ModuleNotFoundError",
     "evalue": "No module named 'frml'",
     "output_type": "error",
     "traceback": [
      "\u001b[1;31m---------------------------------------------------------------------------\u001b[0m",
      "\u001b[1;31mModuleNotFoundError\u001b[0m                       Traceback (most recent call last)",
      "Cell \u001b[1;32mIn[1], line 1\u001b[0m\n\u001b[1;32m----> 1\u001b[0m \u001b[38;5;28;01mfrom\u001b[39;00m\u001b[38;5;250m \u001b[39m\u001b[38;5;21;01mfrml\u001b[39;00m\u001b[38;5;21;01m.\u001b[39;00m\u001b[38;5;21;01minput_helpers\u001b[39;00m\u001b[38;5;21;01m.\u001b[39;00m\u001b[38;5;21;01mtools\u001b[39;00m\u001b[38;5;250m \u001b[39m\u001b[38;5;28;01mimport\u001b[39;00m Calendars\n\u001b[0;32m      3\u001b[0m \u001b[38;5;28mprint\u001b[39m(Calendars\u001b[38;5;241m.\u001b[39mcalendar_list)\n",
      "\u001b[1;31mModuleNotFoundError\u001b[0m: No module named 'frml'"
     ]
    }
   ],
   "source": [
    "from frml.input_helpers.tools import Calendars\n",
    "\n",
    "print(Calendars.calendar_list)"
   ]
  },
  {
   "cell_type": "markdown",
   "id": "cc99d751",
   "metadata": {},
   "source": [
    "See below on the use of the function and its output.\n",
    "\n",
    "1. Check if a dates is a business day or a non business day, business dates return False and non-business days return True."
   ]
  },
  {
   "cell_type": "code",
   "execution_count": null,
   "id": "dfd793f3",
   "metadata": {},
   "outputs": [],
   "source": [
    "from datetime import datetime\n",
    "from frml.tools.dates import get_calendar\n",
    "\n",
    "business_date = datetime(2023, 5, 2)\n",
    "holiday_date = datetime(2023, 5, 1)\n",
    "weekend_date = datetime(2023, 4, 30)\n",
    "\n",
    "calendar = get_calendar('South Africa')\n",
    "\n",
    "print(f\"{business_date} returns {calendar.is_on_offset(business_date)}\")\n",
    "print(f\"{holiday_date} returns {calendar.is_on_offset(holiday_date)}\")\n",
    "print(f\"{weekend_date} returns {calendar.is_on_offset(weekend_date)}\")"
   ]
  },
  {
   "cell_type": "markdown",
   "id": "12fa2479",
   "metadata": {},
   "source": [
    "2. Roll a day forward to the nearest working day. Dates are rolled forward to the nearest business day. Business days are returned as is, while non business days are rolled forward to the nearest business day."
   ]
  },
  {
   "cell_type": "code",
   "execution_count": null,
   "id": "50294ccf",
   "metadata": {},
   "outputs": [],
   "source": [
    "print(f\"{business_date} rolled forward returns {calendar.rollforward(business_date)}\")\n",
    "print(f\"{holiday_date} rolled forward returns {calendar.rollforward(holiday_date)}\")\n",
    "print(f\"{weekend_date} rolled forward returns {calendar.rollforward(weekend_date)}\")"
   ]
  },
  {
   "cell_type": "markdown",
   "id": "03284158",
   "metadata": {},
   "source": [
    "3. Roll a day backward to the nearest working day. Dates are rolled back to the nearest business day. Business days are returned as is, while non business days are rolled back to the nearest business day."
   ]
  },
  {
   "cell_type": "code",
   "execution_count": null,
   "id": "0f4f4dbd",
   "metadata": {},
   "outputs": [],
   "source": [
    "print(f\"{business_date} rolled back returns {calendar.rollback(business_date)}\")\n",
    "print(f\"{holiday_date} rolled back returns {calendar.rollback(holiday_date)}\")\n",
    "print(f\"{weekend_date} rolled back returns {calendar.rollback(weekend_date)}\")"
   ]
  },
  {
   "cell_type": "markdown",
   "id": "d6ddcfe7",
   "metadata": {},
   "source": [
    "## calculate_year_fraction\n",
    "\n",
    "The calculate_year_fraction function can be used to calculate year fractions based on certain day count conventions.\n",
    "\n",
    "Additionally we can import the existing day count conventions to showcase which day count conventions are supported."
   ]
  },
  {
   "cell_type": "code",
   "execution_count": null,
   "id": "00259f16",
   "metadata": {},
   "outputs": [],
   "source": [
    "from frml.input_helpers.tools import Dates\n",
    "\n",
    "print(Dates.day_count_conventions_list)"
   ]
  },
  {
   "cell_type": "markdown",
   "id": "08931053",
   "metadata": {},
   "source": [
    "See below on the use of the function and its output."
   ]
  },
  {
   "cell_type": "code",
   "execution_count": null,
   "id": "4076f7ad",
   "metadata": {},
   "outputs": [],
   "source": [
    "from datetime import date\n",
    "from frml.tools.dates import calculate_year_fraction\n",
    "\n",
    "date1 = date(2023, 5, 2)\n",
    "date2 = date(2024, 5, 1)\n",
    "\n",
    "print(calculate_year_fraction(date1, date2, \"Actual/Actual\"))\n",
    "print(calculate_year_fraction(date1, date2, \"Actual/365\"))\n",
    "print(calculate_year_fraction(date1, date2, \"Actual/360\"))\n",
    "print(calculate_year_fraction(date1, date2, \"30/360E\"))\n",
    "print(calculate_year_fraction(date1, date2, \"30/360A\"))"
   ]
  },
  {
   "cell_type": "markdown",
   "id": "2856b765",
   "metadata": {},
   "source": [
    "## adjust_date_to_tenor\n",
    "\n",
    "The adjust_date_to_tenor function calculates a date adjustment based on a specific tenor period. This function accounts for days, weeks, months or years as tenors."
   ]
  },
  {
   "cell_type": "code",
   "execution_count": null,
   "id": "de631b90",
   "metadata": {},
   "outputs": [],
   "source": [
    "from datetime import date\n",
    "from frml.tools.dates import adjust_date_to_tenor\n",
    "\n",
    "date1 = date(2023, 5, 2)\n",
    "\n",
    "print(adjust_date_to_tenor(date1, '1D'))\n",
    "print(adjust_date_to_tenor(date1, '2W'))\n",
    "print(adjust_date_to_tenor(date1, '3M'))\n",
    "print(adjust_date_to_tenor(date1, '4Y'))"
   ]
  },
  {
   "cell_type": "markdown",
   "id": "7c12b8df",
   "metadata": {},
   "source": [
    "## adjust_date_to_month_end\n",
    "\n",
    "The adjust_date_to_month_end function calculates a date adjustment to month end."
   ]
  },
  {
   "cell_type": "code",
   "execution_count": null,
   "id": "aaf021e8",
   "metadata": {},
   "outputs": [],
   "source": [
    "from datetime import date\n",
    "from frml.tools.dates import adjust_date_to_month_end\n",
    "\n",
    "date1 = date(2023, 5, 2)\n",
    "date2 = date(2024, 5, 1)\n",
    "\n",
    "print(adjust_date_to_month_end(date1))\n",
    "print(adjust_date_to_month_end(date2))"
   ]
  },
  {
   "cell_type": "markdown",
   "id": "ccb2b7e4",
   "metadata": {},
   "source": [
    "## adjust_date_to_business_convention\n",
    "\n",
    "The adjust_date_to_business_convention function calculates a date adjustment based on a calendar and a business day convention.\n",
    "\n",
    "Additionally we can import the existing business day conventions to showcase which day count conventions are supported."
   ]
  },
  {
   "cell_type": "code",
   "execution_count": null,
   "id": "440e0c2b",
   "metadata": {},
   "outputs": [],
   "source": [
    "from frml.input_helpers.tools import Dates\n",
    "\n",
    "print(Dates.business_day_convention_list)"
   ]
  },
  {
   "cell_type": "code",
   "execution_count": null,
   "id": "399c44c9",
   "metadata": {},
   "outputs": [],
   "source": [
    "from datetime import date\n",
    "from frml.tools.dates import adjust_date_to_business_convention\n",
    "\n",
    "weekend_date = datetime(2023, 4, 30)\n",
    "\n",
    "print(adjust_date_to_business_convention(weekend_date, 'Botswana', 'Modified Following'))\n",
    "print(adjust_date_to_business_convention(weekend_date, 'Ghana', 'Following'))\n",
    "print(adjust_date_to_business_convention(weekend_date, 'Kenya', 'Modified Preceding'))\n",
    "print(adjust_date_to_business_convention(weekend_date, 'Malawi', 'Preceding'))\n",
    "print(adjust_date_to_business_convention(weekend_date, 'Nigeria', 'Unadjusted'))"
   ]
  },
  {
   "cell_type": "markdown",
   "id": "fcc6863e",
   "metadata": {},
   "source": [
    "## adjust_date\n",
    "\n",
    "The adjust_date function calculates a date adjustment based on a tenor, a calendar, a business day convention and a end of month flag.\n",
    "\n",
    "This combines the previous four functions into one to make adjustments for finance calculations."
   ]
  },
  {
   "cell_type": "code",
   "execution_count": null,
   "id": "ccbc5b81",
   "metadata": {},
   "outputs": [],
   "source": [
    "from datetime import date\n",
    "from frml.tools.dates import adjust_date\n",
    "\n",
    "date1 = date(2023, 5, 2)\n",
    "\n",
    "print(adjust_date(date1, '3M', 'UnitedStatesOfAmerica_NYBusinessDays', 'Modified Following', False))\n"
   ]
  },
  {
   "cell_type": "markdown",
   "id": "bdb54af0",
   "metadata": {},
   "source": [
    "## generate_dates_list\n",
    "\n",
    "The adjust_date function calculates a date list based on a starting date, and end date, a tenor, a date generation method, a calendar, a business day convention and a end of month flag."
   ]
  },
  {
   "cell_type": "code",
   "execution_count": null,
   "id": "0db3bae9",
   "metadata": {},
   "outputs": [],
   "source": [
    "from datetime import date\n",
    "from frml.tools.dates import generate_dates_list\n",
    "\n",
    "date1 = date(2023, 5, 2)\n",
    "date2 = date(2024, 5, 1)\n",
    "\n",
    "print(generate_dates_list(date1,\n",
    "                            date2,\n",
    "                            '3M',\n",
    "                            'Forwards',\n",
    "                            'Zimbabwe',\n",
    "                            'Modified Following',\n",
    "                            False))"
   ]
  },
  {
   "cell_type": "markdown",
   "id": "fcdc8785",
   "metadata": {},
   "source": [
    "## generate_dates_list_with_stubs\n",
    "\n",
    "The adjust_date function calculates a date list based on a starting date, and end date, a tenor, a date generation method, a calendar, a business day convention and a end of month flag. additionally possible front and end stubs are optional inputs to the function. \n",
    "\n",
    "The examples below showcase the following:\n",
    "- Front stub\n",
    "- End stub\n",
    "- Front stub and end stub"
   ]
  },
  {
   "cell_type": "code",
   "execution_count": null,
   "id": "603cb5fd",
   "metadata": {},
   "outputs": [],
   "source": [
    "from datetime import date\n",
    "from frml.tools.dates import generate_dates_list_with_stubs\n",
    "\n",
    "date1 = date(2023, 5, 2)\n",
    "date2 = date(2024, 5, 1)\n",
    "\n",
    "print(generate_dates_list_with_stubs(date1,\n",
    "                                        date2,\n",
    "                                        '3M',\n",
    "                                        '1W',\n",
    "                                        None,\n",
    "                                        'Forwards',\n",
    "                                        'Zimbabwe',\n",
    "                                        'Modified Following',\n",
    "                                        False))\n",
    "\n",
    "print(generate_dates_list_with_stubs(date1,\n",
    "                                        date2,\n",
    "                                        '3M',\n",
    "                                        None,\n",
    "                                        '1M',\n",
    "                                        'Forwards',\n",
    "                                        'Zimbabwe',\n",
    "                                        'Modified Following',\n",
    "                                        False))\n",
    "\n",
    "print(generate_dates_list_with_stubs(date1,\n",
    "                                        date2,\n",
    "                                        '3M',\n",
    "                                        date(2023, 6, 30),\n",
    "                                        date(2024, 3, 31),\n",
    "                                        'Backwards',\n",
    "                                        'Zimbabwe',\n",
    "                                        'Modified Following',\n",
    "                                        True))"
   ]
  }
 ],
 "metadata": {
  "kernelspec": {
   "display_name": ".venv",
   "language": "python",
   "name": "python3"
  },
  "language_info": {
   "codemirror_mode": {
    "name": "ipython",
    "version": 3
   },
   "file_extension": ".py",
   "mimetype": "text/x-python",
   "name": "python",
   "nbconvert_exporter": "python",
   "pygments_lexer": "ipython3",
   "version": "3.9.7"
  }
 },
 "nbformat": 4,
 "nbformat_minor": 5
}
